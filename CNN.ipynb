{
 "cells": [
  {
   "cell_type": "code",
   "execution_count": 1,
   "metadata": {},
   "outputs": [],
   "source": [
    "import pandas as pd\n",
    "import numpy as np\n",
    "import tensorflow as tf\n",
    "import matplotlib.pyplot as plt\n",
    "import seaborn as sns\n",
    "\n",
    "from keras.preprocessing.image import ImageDataGenerator"
   ]
  },
  {
   "cell_type": "markdown",
   "metadata": {},
   "source": [
    "# 1. Data"
   ]
  },
  {
   "cell_type": "code",
   "execution_count": 2,
   "metadata": {},
   "outputs": [
    {
     "name": "stdout",
     "output_type": "stream",
     "text": [
      "Found 8000 images belonging to 2 classes.\n"
     ]
    }
   ],
   "source": [
    "# Preprocessing training set\n",
    "\n",
    "train_datagen = ImageDataGenerator(\n",
    "    rescale=1./255,\n",
    "    shear_range=0.2,\n",
    "    zoom_range=0.2,\n",
    "    horizontal_flip=True\n",
    ")\n",
    "\n",
    "train_set = train_datagen.flow_from_directory(\n",
    "    'dataset/training_set/',\n",
    "    target_size=(64,64),\n",
    "    batch_size=32,\n",
    "    class_mode='binary'\n",
    ")"
   ]
  },
  {
   "cell_type": "code",
   "execution_count": 3,
   "metadata": {},
   "outputs": [
    {
     "name": "stdout",
     "output_type": "stream",
     "text": [
      "Found 2000 images belonging to 2 classes.\n"
     ]
    }
   ],
   "source": [
    "# Preprocessing test set\n",
    "\n",
    "test_datagen = ImageDataGenerator(\n",
    "    rescale = 1./255\n",
    ")\n",
    "\n",
    "test_set = test_datagen.flow_from_directory(\n",
    "    'dataset/test_set/',\n",
    "    target_size=(64,64),\n",
    "    batch_size=32,\n",
    "    class_mode='binary'\n",
    ")"
   ]
  },
  {
   "cell_type": "markdown",
   "metadata": {},
   "source": [
    "# 2. Build CNN"
   ]
  },
  {
   "cell_type": "code",
   "execution_count": 4,
   "metadata": {},
   "outputs": [],
   "source": [
    "cnn = tf.keras.models.Sequential()\n",
    "\n",
    "# 1. Convolution\n",
    "cnn.add(tf.keras.layers.Conv2D(\n",
    "    filters = 32,\n",
    "    kernel_size=3,\n",
    "    activation='relu',\n",
    "    input_shape=(64,64, 3) # The 3 is because of color (RGB); grayscale would be 1\n",
    "))\n",
    "\n",
    "# 2. Pooling\n",
    "cnn.add(tf.keras.layers.MaxPool2D(\n",
    "    pool_size=(2,2), \n",
    "    strides=2\n",
    "))\n",
    "\n",
    "# 3. Second Convolution layer\n",
    "cnn.add(tf.keras.layers.Conv2D(\n",
    "    filters=32, \n",
    "    kernel_size=3, \n",
    "    activation='relu'\n",
    "))\n",
    "\n",
    "# 4. MaxPooling again\n",
    "cnn.add(tf.keras.layers.MaxPool2D(\n",
    "    pool_size=2,\n",
    "    strides=2\n",
    "))\n",
    "\n",
    "#5. Flattening - this will be input of future neural network\n",
    "cnn.add(tf.keras.layers.Flatten())\n",
    "\n",
    "#6. Fully connected layer\n",
    "cnn.add(tf.keras.layers.Dense(\n",
    "    units=128, \n",
    "    activation='relu', \n",
    "))\n",
    "\n",
    "#7. Output layer\n",
    "cnn.add(tf.keras.layers.Dense(\n",
    "    units=1, \n",
    "    activation='sigmoid', \n",
    "))"
   ]
  },
  {
   "cell_type": "markdown",
   "metadata": {},
   "source": [
    "\n",
    "# 3. Train CNN"
   ]
  },
  {
   "cell_type": "code",
   "execution_count": 28,
   "metadata": {},
   "outputs": [
    {
     "name": "stdout",
     "output_type": "stream",
     "text": [
      "Epoch 1/25\n",
      "250/250 [==============================] - 60s 239ms/step - loss: 0.4193 - accuracy: 0.8059 - val_loss: 0.4779 - val_accuracy: 0.7870\n",
      "Epoch 2/25\n",
      "250/250 [==============================] - 51s 203ms/step - loss: 0.3921 - accuracy: 0.8192 - val_loss: 0.4795 - val_accuracy: 0.7795\n",
      "Epoch 3/25\n",
      "250/250 [==============================] - 59s 234ms/step - loss: 0.3813 - accuracy: 0.8286 - val_loss: 0.4823 - val_accuracy: 0.7790\n",
      "Epoch 4/25\n",
      "250/250 [==============================] - 64s 258ms/step - loss: 0.3685 - accuracy: 0.8325 - val_loss: 0.4983 - val_accuracy: 0.7845\n",
      "Epoch 5/25\n",
      "250/250 [==============================] - 55s 220ms/step - loss: 0.3478 - accuracy: 0.8482 - val_loss: 0.5982 - val_accuracy: 0.7405\n",
      "Epoch 6/25\n",
      "250/250 [==============================] - 50s 201ms/step - loss: 0.3333 - accuracy: 0.8522 - val_loss: 0.5014 - val_accuracy: 0.7680\n",
      "Epoch 7/25\n",
      "250/250 [==============================] - 55s 220ms/step - loss: 0.3260 - accuracy: 0.8556 - val_loss: 0.4859 - val_accuracy: 0.7890\n",
      "Epoch 8/25\n",
      "250/250 [==============================] - 53s 211ms/step - loss: 0.3053 - accuracy: 0.8676 - val_loss: 0.5248 - val_accuracy: 0.7835\n",
      "Epoch 9/25\n",
      "250/250 [==============================] - 55s 219ms/step - loss: 0.2773 - accuracy: 0.8845 - val_loss: 0.5106 - val_accuracy: 0.7815\n",
      "Epoch 10/25\n",
      "250/250 [==============================] - 55s 218ms/step - loss: 0.2766 - accuracy: 0.8835 - val_loss: 0.5397 - val_accuracy: 0.7910\n",
      "Epoch 11/25\n",
      "250/250 [==============================] - 48s 192ms/step - loss: 0.2578 - accuracy: 0.8936 - val_loss: 0.6382 - val_accuracy: 0.7615\n",
      "Epoch 12/25\n",
      "250/250 [==============================] - 43s 173ms/step - loss: 0.2445 - accuracy: 0.8974 - val_loss: 0.5910 - val_accuracy: 0.7770\n",
      "Epoch 13/25\n",
      "250/250 [==============================] - 43s 172ms/step - loss: 0.2272 - accuracy: 0.9068 - val_loss: 0.6118 - val_accuracy: 0.7850\n",
      "Epoch 14/25\n",
      "250/250 [==============================] - 43s 174ms/step - loss: 0.2137 - accuracy: 0.9128 - val_loss: 0.5887 - val_accuracy: 0.7770\n",
      "Epoch 15/25\n",
      "250/250 [==============================] - 43s 172ms/step - loss: 0.2100 - accuracy: 0.9187 - val_loss: 0.5910 - val_accuracy: 0.7835\n",
      "Epoch 16/25\n",
      "250/250 [==============================] - 44s 175ms/step - loss: 0.1984 - accuracy: 0.9247 - val_loss: 0.6826 - val_accuracy: 0.7720\n",
      "Epoch 17/25\n",
      "250/250 [==============================] - 48s 194ms/step - loss: 0.1760 - accuracy: 0.9275 - val_loss: 0.6779 - val_accuracy: 0.7830\n",
      "Epoch 18/25\n",
      "250/250 [==============================] - 52s 206ms/step - loss: 0.1724 - accuracy: 0.9333 - val_loss: 0.6522 - val_accuracy: 0.7785\n",
      "Epoch 19/25\n",
      "250/250 [==============================] - 54s 214ms/step - loss: 0.1689 - accuracy: 0.9349 - val_loss: 0.6559 - val_accuracy: 0.7895\n",
      "Epoch 20/25\n",
      "250/250 [==============================] - 53s 212ms/step - loss: 0.1540 - accuracy: 0.9408 - val_loss: 0.6709 - val_accuracy: 0.7905\n",
      "Epoch 21/25\n",
      "250/250 [==============================] - 59s 237ms/step - loss: 0.1474 - accuracy: 0.9426 - val_loss: 0.7219 - val_accuracy: 0.7690\n",
      "Epoch 22/25\n",
      "250/250 [==============================] - 49s 197ms/step - loss: 0.1398 - accuracy: 0.9446 - val_loss: 0.7687 - val_accuracy: 0.7785\n",
      "Epoch 23/25\n",
      "250/250 [==============================] - 64s 255ms/step - loss: 0.1299 - accuracy: 0.9510 - val_loss: 0.7705 - val_accuracy: 0.7865\n",
      "Epoch 24/25\n",
      "250/250 [==============================] - 50s 200ms/step - loss: 0.1260 - accuracy: 0.9523 - val_loss: 0.8200 - val_accuracy: 0.7780\n",
      "Epoch 25/25\n",
      "250/250 [==============================] - 48s 191ms/step - loss: 0.1271 - accuracy: 0.9524 - val_loss: 0.7862 - val_accuracy: 0.7745\n"
     ]
    },
    {
     "data": {
      "text/plain": [
       "<keras.callbacks.History at 0x259a682fe48>"
      ]
     },
     "execution_count": 28,
     "metadata": {},
     "output_type": "execute_result"
    }
   ],
   "source": [
    "# Compile\n",
    "cnn.compile(\n",
    "    optimizer='adam',\n",
    "    loss='binary_crossentropy',\n",
    "    metrics=['accuracy']\n",
    ")\n",
    "\n",
    "# Train and evaluate on test set\n",
    "cnn.fit(\n",
    "    x=train_set,\n",
    "    validation_data = test_set,\n",
    "    epochs = 25    \n",
    ")"
   ]
  },
  {
   "cell_type": "markdown",
   "metadata": {},
   "source": [
    "# 4. Test/Evaluate"
   ]
  },
  {
   "cell_type": "code",
   "execution_count": 25,
   "metadata": {},
   "outputs": [
    {
     "name": "stdout",
     "output_type": "stream",
     "text": [
      "{'cats': 0, 'dogs': 1}\n",
      "0.046929866 cat\n"
     ]
    }
   ],
   "source": [
    "from keras.preprocessing import image\n",
    "\n",
    "# load image\n",
    "test_image = image.load_img(\n",
    "    'dataset/single_prediction/cat.4327.jpg',\n",
    "    target_size=(64,64)\n",
    ")\n",
    "\n",
    "# Convert image from PIL to array\n",
    "test_image = image.img_to_array(test_image)\n",
    "\n",
    "# Image needs to be in the same format as training; training had a batch dimension of 32\n",
    "# so need to add an extra dimension, which will convert image to batch\n",
    "test_image = np.expand_dims(test_image, axis= 0) # 0 param indicates axis\n",
    "\n",
    "# predict\n",
    "result = cnn.predict(test_image/255)\n",
    "\n",
    "\n",
    "print(train_set.class_indices)\n",
    "num_prediction = result[0][0] # first 0  is to get inside the batch;\n",
    "                          # the second 0 is the only element in batch\n",
    "\n",
    "if num_prediction > 0.5:\n",
    "    prediction = 'dog'\n",
    "else:\n",
    "    prediction ='cat'\n",
    "    \n",
    "print(result[0][0], prediction)"
   ]
  },
  {
   "cell_type": "code",
   "execution_count": null,
   "metadata": {},
   "outputs": [],
   "source": []
  }
 ],
 "metadata": {
  "kernelspec": {
   "display_name": "Python 3",
   "language": "python",
   "name": "python3"
  },
  "language_info": {
   "codemirror_mode": {
    "name": "ipython",
    "version": 3
   },
   "file_extension": ".py",
   "mimetype": "text/x-python",
   "name": "python",
   "nbconvert_exporter": "python",
   "pygments_lexer": "ipython3",
   "version": "3.7.3"
  }
 },
 "nbformat": 4,
 "nbformat_minor": 2
}
