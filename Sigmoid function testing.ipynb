{
 "cells": [
  {
   "cell_type": "code",
   "execution_count": 1,
   "metadata": {},
   "outputs": [],
   "source": [
    "import numpy as np"
   ]
  },
  {
   "cell_type": "code",
   "execution_count": 3,
   "metadata": {},
   "outputs": [],
   "source": [
    "# sigmoid function\n",
    "def nonlin(x, deriv=False):\n",
    "    if(deriv):\n",
    "        return x*(1-x)\n",
    "    return 1/(1+np.exp(-x))"
   ]
  },
  {
   "cell_type": "code",
   "execution_count": 338,
   "metadata": {},
   "outputs": [],
   "source": [
    "X = np.array( [ [0, 0, 1],\n",
    "               [0,1,1],\n",
    "               [1,0,1,],\n",
    "               [1, 1, 1]\n",
    "              ])"
   ]
  },
  {
   "cell_type": "code",
   "execution_count": 339,
   "metadata": {},
   "outputs": [
    {
     "data": {
      "text/plain": [
       "array([[0],\n",
       "       [0],\n",
       "       [1],\n",
       "       [1]])"
      ]
     },
     "execution_count": 339,
     "metadata": {},
     "output_type": "execute_result"
    }
   ],
   "source": [
    "y = np.array([[0,0,1,1]]).T\n",
    "y"
   ]
  },
  {
   "cell_type": "code",
   "execution_count": 340,
   "metadata": {},
   "outputs": [],
   "source": [
    "np.random.seed(45)"
   ]
  },
  {
   "cell_type": "code",
   "execution_count": 341,
   "metadata": {},
   "outputs": [
    {
     "data": {
      "text/plain": [
       "array([[ 0.97802303],\n",
       "       [ 0.09908945],\n",
       "       [-0.4371054 ]])"
      ]
     },
     "execution_count": 341,
     "metadata": {},
     "output_type": "execute_result"
    }
   ],
   "source": [
    "import matplotlib.pyplot as plt\n",
    "\n",
    "syn0 = 2*np.random.random((3,1))-1\n",
    "    \n",
    "syn0"
   ]
  },
  {
   "cell_type": "code",
   "execution_count": 342,
   "metadata": {},
   "outputs": [
    {
     "name": "stdout",
     "output_type": "stream",
     "text": [
      "\n",
      "---------------\n",
      "np.dot: \n",
      " [[-0.4371054 ]\n",
      " [-0.33801594]\n",
      " [ 0.54091763]\n",
      " [ 0.64000708]]\n",
      "l1:\n",
      " [[0.39243091]\n",
      " [0.41629151]\n",
      " [0.63202586]\n",
      " [0.65475506]]\n",
      "l1 delta:\n",
      " [[-0.09356687]\n",
      " [-0.10115588]\n",
      " [ 0.08557944]\n",
      " [ 0.07804292]]\n",
      "\n",
      "---------------\n",
      "np.dot: \n",
      " [[-0.4371054 ]\n",
      " [-0.33801594]\n",
      " [ 0.54091763]\n",
      " [ 0.64000708]]\n",
      "l1:\n",
      " [[0.39243091]\n",
      " [0.41629151]\n",
      " [0.63202586]\n",
      " [0.65475506]]\n",
      "l1 delta:\n",
      " [[-0.09356687]\n",
      " [-0.10115588]\n",
      " [ 0.08557944]\n",
      " [ 0.07804292]]\n",
      "\n",
      "---------------\n",
      "np.dot: \n",
      " [[-0.4371054 ]\n",
      " [-0.33801594]\n",
      " [ 0.54091763]\n",
      " [ 0.64000708]]\n",
      "l1:\n",
      " [[0.39243091]\n",
      " [0.41629151]\n",
      " [0.63202586]\n",
      " [0.65475506]]\n",
      "l1 delta:\n",
      " [[-0.09356687]\n",
      " [-0.10115588]\n",
      " [ 0.08557944]\n",
      " [ 0.07804292]]\n"
     ]
    }
   ],
   "source": [
    "for i in range(3):\n",
    "    print('\\n---------------')\n",
    "    # forward prop\n",
    "    l0 = X\n",
    "    l1 = nonlin(np.dot(l0, syn0))\n",
    "    print('np.dot: \\n', np.dot(l0, syn0))\n",
    "    print('l1:\\n', l1)\n",
    "    \n",
    "    \n",
    "    l1_error = y-l1\n",
    "    \n",
    "    l1_delta= l1_error * nonlin(l1, True)\n",
    "    \n",
    "    print('l1 delta:\\n',l1_delta)"
   ]
  },
  {
   "cell_type": "code",
   "execution_count": 343,
   "metadata": {},
   "outputs": [
    {
     "data": {
      "text/plain": [
       "<matplotlib.collections.PathCollection at 0x17bd5c50208>"
      ]
     },
     "execution_count": 343,
     "metadata": {},
     "output_type": "execute_result"
    },
    {
     "data": {
      "image/png": "[encoded data removed]",
      "text/plain": [
       "<Figure size 432x288 with 1 Axes>"
      ]
     },
     "metadata": {
      "needs_background": "light"
     },
     "output_type": "display_data"
    }
   ],
   "source": [
    "xt = np.dot(l0, syn0).T\n",
    "yt = nonlin(xt)\n",
    "plt.scatter(x=xt.flatten(), y=yt.flatten())"
   ]
  },
  {
   "cell_type": "code",
   "execution_count": null,
   "metadata": {},
   "outputs": [],
   "source": []
  }
 ],
 "metadata": {
  "kernelspec": {
   "display_name": "Python 3 (ipykernel)",
   "language": "python",
   "name": "python3"
  },
  "language_info": {
   "codemirror_mode": {
    "name": "ipython",
    "version": 3
   },
   "file_extension": ".py",
   "mimetype": "text/x-python",
   "name": "python",
   "nbconvert_exporter": "python",
   "pygments_lexer": "ipython3",
   "version": "3.10.10"
  }
 },
 "nbformat": 4,
 "nbformat_minor": 2
}
